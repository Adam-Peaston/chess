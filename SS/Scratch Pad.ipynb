{
 "cells": [
  {
   "cell_type": "code",
   "execution_count": 23,
   "id": "a29727ef",
   "metadata": {},
   "outputs": [
    {
     "name": "stderr",
     "output_type": "stream",
     "text": [
      "  1%|▏         | 8/591 [00:00<00:07, 72.97it/s]"
     ]
    },
    {
     "name": "stderr",
     "output_type": "stream",
     "text": [
      "100%|██████████| 591/591 [00:07<00:00, 83.70it/s] \n"
     ]
    }
   ],
   "source": [
    "import os, pickle\n",
    "from collections import Counter\n",
    "from tqdm import tqdm\n",
    "\n",
    "source = os.path.join('data', 'output', 'old_round_0','self_play')\n",
    "dest = os.path.join('data','output','new_round_0','self_play')\n",
    "tournamentfiles = [f for f in os.listdir(source) if f.startswith('tmnt_') and f.endswith('.pkl')]\n",
    "\n",
    "for file in tqdm(tournamentfiles):\n",
    "\n",
    "    with open(os.path.join(source, file), 'rb') as pkl:\n",
    "        old_tourn = pickle.load(pkl)\n",
    "\n",
    "    new_tourn = {\n",
    "        pair: {\n",
    "            'a0wa1b': {\n",
    "                'white': {\n",
    "                    'points': old_tourn[pair][0]['white']['points'], \n",
    "                    'moves': old_tourn[pair][0]['white']['moves']\n",
    "                }, \n",
    "                'black': {\n",
    "                    'points': old_tourn[pair][0]['black']['points'], \n",
    "                    'moves': old_tourn[pair][0]['black']['moves']\n",
    "                }\n",
    "            },\n",
    "            'a1wa0b': {\n",
    "                'white': {\n",
    "                    'points': old_tourn[pair][1]['white']['points'], \n",
    "                    'moves': old_tourn[pair][1]['white']['moves']\n",
    "                }, \n",
    "                'black': {\n",
    "                    'points': old_tourn[pair][1]['black']['points'], \n",
    "                    'moves': old_tourn[pair][1]['black']['moves']\n",
    "                }\n",
    "            }\n",
    "        } for pair in old_tourn\n",
    "    }\n",
    "\n",
    "    with open(os.path.join(dest, file), 'wb') as pkl:\n",
    "        pickle.dump(new_tourn, pkl)"
   ]
  },
  {
   "cell_type": "code",
   "execution_count": 30,
   "id": "7eb4e00f",
   "metadata": {},
   "outputs": [],
   "source": [
    "import os, pickle\n",
    "from collections import Counter\n",
    "from tqdm import tqdm\n",
    "from chess_primitives import conjugate_board, board_token\n",
    "\n",
    "def harvest_checkmates(self_play_dirs):\n",
    "    checkmates = []\n",
    "\n",
    "    for source in self_play_dirs:\n",
    "        tournamentfiles = [f for f in os.listdir(source) if f.startswith('tmnt_') and f.endswith('.pkl')]\n",
    "\n",
    "        for file in tournamentfiles:\n",
    "\n",
    "            with open(os.path.join(source, file), 'rb') as pkl:\n",
    "                tourn = pickle.load(pkl)\n",
    "\n",
    "            for i, pair in tourn.items():\n",
    "                for order,game in pair.items():\n",
    "                    for color in game:\n",
    "                        if game[color]['points'] == 1: # This game was won by this color\n",
    "                            winning_token, winning_board = game[color]['moves'][-1] # The last move made by the winning color - checkmate\n",
    "                            checkmates.append((winning_token, winning_board, 1)) # Winning board\n",
    "                            # construct losing board as well\n",
    "                            losing_color = 'black' if color == 'white' else 'white'\n",
    "                            losing_board = conjugate_board(winning_board)\n",
    "                            losing_token = board_token(losing_board, f'{losing_color}E_')\n",
    "                            checkmates.append((losing_token, losing_board, -1))\n",
    "    return checkmates"
   ]
  },
  {
   "cell_type": "code",
   "execution_count": 31,
   "id": "527e5f63",
   "metadata": {},
   "outputs": [],
   "source": [
    "self_play_dirs = [os.path.join('data','output','new_round_0','self_play'), os.path.join('data','output','round_1','self_play')]\n",
    "\n",
    "checkmates = harvest_checkmates(self_play_dirs)"
   ]
  },
  {
   "cell_type": "code",
   "execution_count": 5,
   "id": "77507951",
   "metadata": {},
   "outputs": [],
   "source": [
    "import os\n",
    "baseline_root = os.path.join('data','output_old','new_round_0','self_play')\n",
    "baseline_tournament_files = os.listdir(baseline_root)\n",
    "\n",
    "round1_root = os.path.join('data','output_old','round_1','self_play')\n",
    "round1_tournament_files = os.listdir(round1_root)"
   ]
  },
  {
   "cell_type": "code",
   "execution_count": 6,
   "id": "297df931",
   "metadata": {},
   "outputs": [
    {
     "data": {
      "text/plain": [
       "827"
      ]
     },
     "execution_count": 6,
     "metadata": {},
     "output_type": "execute_result"
    }
   ],
   "source": [
    "len(baseline_tournament_files) + len(round1_tournament_files)"
   ]
  },
  {
   "cell_type": "code",
   "execution_count": 8,
   "id": "8c878a24",
   "metadata": {},
   "outputs": [
    {
     "name": "stdout",
     "output_type": "stream",
     "text": [
      "591\n",
      "236\n"
     ]
    }
   ],
   "source": [
    "print(len(baseline_tournament_files))\n",
    "print(len(round1_tournament_files))"
   ]
  },
  {
   "cell_type": "code",
   "execution_count": 36,
   "id": "d7b9a7eb",
   "metadata": {},
   "outputs": [],
   "source": [
    "working_dir = os.path.join('data','output')\n",
    "\n",
    "new_dirs = [f'round_{i}' for i in range(10)]\n",
    "for d in new_dirs:\n",
    "    os.mkdir(os.path.join(working_dir, d, 'self_play'))"
   ]
  },
  {
   "cell_type": "code",
   "execution_count": 14,
   "id": "c19c2910",
   "metadata": {},
   "outputs": [
    {
     "data": {
      "text/plain": [
       "84.42857142857143"
      ]
     },
     "execution_count": 14,
     "metadata": {},
     "output_type": "execute_result"
    }
   ],
   "source": [
    "591 / 7"
   ]
  },
  {
   "cell_type": "code",
   "execution_count": 23,
   "id": "e236d63a",
   "metadata": {},
   "outputs": [
    {
     "name": "stdout",
     "output_type": "stream",
     "text": [
      "7\n",
      "591\n"
     ]
    }
   ],
   "source": [
    "baseline_splits = [84] * 6 + [87]\n",
    "print(len(baseline_splits))\n",
    "print(sum(baseline_splits))"
   ]
  },
  {
   "cell_type": "code",
   "execution_count": 25,
   "id": "81124daf",
   "metadata": {},
   "outputs": [
    {
     "name": "stdout",
     "output_type": "stream",
     "text": [
      "3\n",
      "236\n"
     ]
    }
   ],
   "source": [
    "round1_splits = [78] * 2 + [80]\n",
    "print(len(round1_splits))\n",
    "print(sum(round1_splits))"
   ]
  },
  {
   "cell_type": "code",
   "execution_count": 35,
   "id": "98b7ff38",
   "metadata": {},
   "outputs": [],
   "source": [
    "import pickle\n",
    "\n",
    "baseline_files_processed = 0\n",
    "baseline_file_batches = []\n",
    "for split in baseline_splits:\n",
    "    files_to_move = baseline_tournament_files[baseline_files_processed: baseline_files_processed+split]\n",
    "    baseline_file_batches.append(files_to_move)\n",
    "    baseline_files_processed += split\n",
    "\n",
    "round1_files_processed = 0\n",
    "round1_file_batches = []\n",
    "for split in round1_splits:\n",
    "    files_to_move = round1_tournament_files[round1_files_processed: round1_files_processed+split]\n",
    "    round1_file_batches.append(files_to_move)\n",
    "    round1_files_processed += split\n",
    "\n",
    "for i,batch in enumerate(baseline_file_batches, start=0):\n",
    "    dest_dir = os.path.join(working_dir, f'round_{i}')\n",
    "\n",
    "    for file in batch:\n",
    "        with open(os.path.join(baseline_root, file), 'rb') as pkl:\n",
    "            tourn = pickle.load(pkl)\n",
    "\n",
    "        with open(os.path.join(dest_dir, file), 'wb') as pkl:\n",
    "            pickle.dump(tourn, pkl)\n",
    "\n",
    "for i,batch in enumerate(round1_file_batches, start=7):\n",
    "    dest_dir = os.path.join(working_dir, f'round_{i}')\n",
    "\n",
    "    for file in batch:\n",
    "        with open(os.path.join(round1_root, file), 'rb') as pkl:\n",
    "            tourn = pickle.load(pkl)\n",
    "\n",
    "        with open(os.path.join(dest_dir, file), 'wb') as pkl:\n",
    "            pickle.dump(tourn, pkl)"
   ]
  },
  {
   "cell_type": "code",
   "execution_count": 38,
   "id": "80455008",
   "metadata": {},
   "outputs": [
    {
     "name": "stderr",
     "output_type": "stream",
     "text": [
      "100%|██████████| 10/10 [00:01<00:00,  9.71it/s]\n"
     ]
    }
   ],
   "source": [
    "from chess_selfplay import harvest_checkmates\n",
    "from tqdm import tqdm\n",
    "\n",
    "working_dir = os.path.join('data','output')\n",
    "\n",
    "new_dirs = [f'round_{i}' for i in range(10)]\n",
    "\n",
    "for dir in tqdm(new_dirs):\n",
    "    _ = harvest_checkmates(os.path.join(working_dir,dir))"
   ]
  },
  {
   "cell_type": "code",
   "execution_count": null,
   "id": "c75223ae",
   "metadata": {},
   "outputs": [],
   "source": []
  },
  {
   "cell_type": "code",
   "execution_count": null,
   "id": "e7afdbc0",
   "metadata": {},
   "outputs": [],
   "source": []
  },
  {
   "cell_type": "code",
   "execution_count": null,
   "id": "7522b374",
   "metadata": {},
   "outputs": [],
   "source": []
  },
  {
   "cell_type": "code",
   "execution_count": null,
   "id": "bda48c7e",
   "metadata": {},
   "outputs": [],
   "source": []
  },
  {
   "cell_type": "code",
   "execution_count": null,
   "id": "b64c1d0d",
   "metadata": {},
   "outputs": [],
   "source": [
    "import os, pickle\n",
    "from collections import Counter\n",
    "from tqdm import tqdm\n",
    "\n",
    "root = os.path.join('data', 'output', 'round_0','self_play')\n",
    "tournamentfiles = [f for f in os.listdir(root) if f.startswith('tmnt_') and f.endswith('.pkl')]\n",
    "agent0_points = []\n",
    "agent1_points = []\n",
    "checkmates = []\n",
    "\n",
    "for file in tournamentfiles:\n",
    "    with open(os.path.join(root, file), 'rb') as pkl:\n",
    "        tourn = pickle.load(pkl)\n",
    "    \n",
    "    for i, pair in tourn.items():\n",
    "        agent0_points.append(pair['a0wa1b']['white']['points'])\n",
    "        agent1_points.append(pair['a0wa1b']['black']['points'])\n",
    "        agent0_points.append(pair['a1wa0b']['black']['points'])\n",
    "        agent1_points.append(pair['a1wa0b']['white']['points'])\n",
    "        for order,game in pair.items():\n",
    "            for color in game:\n",
    "                if abs(game[color]['points']) == 1:\n",
    "                    token, board = game[color]['moves'][-1]\n",
    "                    points = game[color]['points']\n",
    "                    checkmates.append((token, board, points))\n",
    "\n",
    "print(f'{len(checkmates)/2:.0f} games ended in checkmate out of {len(tournamentfiles)*2:.0f} games played.')\n",
    "Counter(agent0_points)"
   ]
  },
  {
   "cell_type": "code",
   "execution_count": 10,
   "id": "643d3bf2",
   "metadata": {},
   "outputs": [
    {
     "name": "stdout",
     "output_type": "stream",
     "text": [
      "2191\n"
     ]
    }
   ],
   "source": [
    "import os, pickle\n",
    "from collections import Counter\n",
    "from tqdm import tqdm\n",
    "root = os.path.join('data', 'output', 'round_1','self_play')\n",
    "chkm_dest = os.path.join('data', 'output', 'checkmates','baseline')\n",
    "\n",
    "tournamentfiles = [f for f in os.listdir(root) if f.startswith('tmnt_') and f.endswith('.pkl')]\n",
    "supplementary_checkmates = os.listdir(chkm_dest)\n",
    "positions = dict()\n",
    "\n",
    "for file in tournamentfiles:\n",
    "    with open(os.path.join(root, file), 'rb') as pkl:\n",
    "        tourn = pickle.load(pkl)\n",
    "\n",
    "    for i, pair in tourn.items():\n",
    "        for order,game in pair.items():\n",
    "            for color in game:\n",
    "                points = game[color]['points']\n",
    "                for token, move in game[color]['moves']:\n",
    "                    token, board = game[color]['moves'][-1]\n",
    "                    if token in positions:\n",
    "                        positions[token]['visits'] += 1\n",
    "                        positions[token]['points'] += points\n",
    "                    else:\n",
    "                        positions[token] = {'board':board, 'visits':1, 'points':points}\n",
    "\n",
    "for file in supplementary_checkmates:\n",
    "    with open(os.path.join(chkm_dest, file), 'rb') as pkl:\n",
    "        token, board, points = pickle.load(pkl)\n",
    "    if token not in positions:\n",
    "        positions[token] = {'board':board, 'visits':1, 'points':points}\n",
    "\n",
    "print(len(positions))\n",
    "    "
   ]
  },
  {
   "cell_type": "code",
   "execution_count": 11,
   "id": "d6f51aa8",
   "metadata": {},
   "outputs": [
    {
     "data": {
      "text/plain": [
       "(array([ 405.,    0.,    0.,    0.,    0.,    0.,    0.,    0.,    0.,\n",
       "           0.,    0.,    0.,    0.,    0.,    0.,    0.,    0.,    0.,\n",
       "           0.,    0.,    0.,    0.,    0.,    0.,    0.,    0.,    0.,\n",
       "           0.,    0.,    0.,    0.,    0.,    0.,    0.,    0.,    0.,\n",
       "           0.,    0.,    0.,    0.,    0.,    0.,    0.,    0.,    0.,\n",
       "           0.,    0.,    0.,    0., 1786.]),\n",
       " array([0.  , 0.02, 0.04, 0.06, 0.08, 0.1 , 0.12, 0.14, 0.16, 0.18, 0.2 ,\n",
       "        0.22, 0.24, 0.26, 0.28, 0.3 , 0.32, 0.34, 0.36, 0.38, 0.4 , 0.42,\n",
       "        0.44, 0.46, 0.48, 0.5 , 0.52, 0.54, 0.56, 0.58, 0.6 , 0.62, 0.64,\n",
       "        0.66, 0.68, 0.7 , 0.72, 0.74, 0.76, 0.78, 0.8 , 0.82, 0.84, 0.86,\n",
       "        0.88, 0.9 , 0.92, 0.94, 0.96, 0.98, 1.  ]),\n",
       " <BarContainer object of 50 artists>)"
      ]
     },
     "execution_count": 11,
     "metadata": {},
     "output_type": "execute_result"
    },
    {
     "data": {
      "image/png": "[encoded data removed]",
      "text/plain": [
       "<Figure size 640x480 with 1 Axes>"
      ]
     },
     "metadata": {},
     "output_type": "display_data"
    }
   ],
   "source": [
    "import numpy as np\n",
    "import matplotlib.pyplot as plt\n",
    "plt.hist(np.array([abs(position['points']/position['visits']) for position in positions.values()]), bins=50)"
   ]
  },
  {
   "cell_type": "code",
   "execution_count": 12,
   "id": "e182e7bd",
   "metadata": {},
   "outputs": [
    {
     "data": {
      "text/plain": [
       "Text(0.5, 0, 'Number of moves made')"
      ]
     },
     "execution_count": 12,
     "metadata": {},
     "output_type": "execute_result"
    },
    {
     "data": {
      "image/png": "[encoded data removed]",
      "text/plain": [
       "<Figure size 640x480 with 1 Axes>"
      ]
     },
     "metadata": {},
     "output_type": "display_data"
    }
   ],
   "source": [
    "num_moves = []\n",
    "for file in tournamentfiles:\n",
    "    with open(os.path.join(root, file), 'rb') as pkl:\n",
    "        tourn = pickle.load(pkl)\n",
    "\n",
    "    for i, pair in tourn.items():\n",
    "        for order,game in pair.items():\n",
    "            nmoves = max(len(game['white']['moves']), len(game['black']['moves']))\n",
    "            num_moves.append(nmoves)\n",
    "\n",
    "plt.hist(num_moves)\n",
    "plt.ylabel('Number of games played')\n",
    "plt.xlabel('Number of moves made')\n"
   ]
  },
  {
   "cell_type": "code",
   "execution_count": null,
   "id": "bae9f755",
   "metadata": {},
   "outputs": [],
   "source": []
  }
 ],
 "metadata": {
  "kernelspec": {
   "display_name": "Python 3 (ipykernel)",
   "language": "python",
   "name": "python3"
  },
  "language_info": {
   "codemirror_mode": {
    "name": "ipython",
    "version": 3
   },
   "file_extension": ".py",
   "mimetype": "text/x-python",
   "name": "python",
   "nbconvert_exporter": "python",
   "pygments_lexer": "ipython3",
   "version": "3.8.12"
  }
 },
 "nbformat": 4,
 "nbformat_minor": 5
}
