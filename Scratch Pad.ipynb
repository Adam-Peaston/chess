{
 "cells": [
  {
   "cell_type": "code",
   "execution_count": 15,
   "id": "bd2855ea",
   "metadata": {},
   "outputs": [],
   "source": [
    "import numpy as np\n",
    "from itertools import accumulate\n",
    "# import time\n",
    "# from chess_selfplay2 import *\n",
    "# from chess_model import DummyModel"
   ]
  },
  {
   "cell_type": "code",
   "execution_count": 23,
   "id": "a29727ef",
   "metadata": {},
   "outputs": [
    {
     "name": "stdout",
     "output_type": "stream",
     "text": [
      "104 games ended in checkmate out of 194 games played.\n"
     ]
    },
    {
     "data": {
      "text/plain": [
       "Counter({1.0: 94, -1.0: 10, 0.0: 90})"
      ]
     },
     "execution_count": 23,
     "metadata": {},
     "output_type": "execute_result"
    }
   ],
   "source": [
    "import os, pickle\n",
    "from collections import Counter\n",
    "from tqdm import tqdm\n",
    "root = os.path.join('data', 'output', 'round1')\n",
    "chkm_dest = os.path.join('data', 'output', 'checkmates')\n",
    "\n",
    "tournamentfiles = [f for f in os.listdir(root) if f.startswith('tmnt_') and f.endswith('.pkl')]\n",
    "agent0_points = []\n",
    "agent1_points = []\n",
    "checkmates = []\n",
    "\n",
    "for file in tournamentfiles:\n",
    "    with open(os.path.join(root, file), 'rb') as pkl:\n",
    "        tourn = pickle.load(pkl)\n",
    "    \n",
    "    for i, pair in tourn.items():\n",
    "        agent0_points.append(pair['a0wa1b']['white']['points'])\n",
    "        agent1_points.append(pair['a0wa1b']['black']['points'])\n",
    "        agent0_points.append(pair['a1wa0b']['black']['points'])\n",
    "        agent1_points.append(pair['a1wa0b']['white']['points'])\n",
    "        for order,game in pair.items():\n",
    "            for color in game:\n",
    "                if abs(game[color]['points']) == 1:\n",
    "                    token, board = game[color]['moves'][-1]\n",
    "                    points = game[color]['points']\n",
    "                    checkmates.append((token, board, points))\n",
    "    \n",
    "    # for i,checkmate in enumerate(checkmates):\n",
    "    #     file_trunk = file.split('.')[0]\n",
    "    #     with open(os.path.join(chkm_dest, f'{file_trunk}_{i}.pkl'), 'wb') as pkl:\n",
    "    #         pickle.dump(checkmate, pkl)\n",
    "\n",
    "print(f'{len(checkmates)/2:.0f} games ended in checkmate out of {len(tournamentfiles)*2:.0f} games played.')\n",
    "Counter(agent0_points)"
   ]
  },
  {
   "cell_type": "code",
   "execution_count": 24,
   "id": "643d3bf2",
   "metadata": {},
   "outputs": [
    {
     "name": "stdout",
     "output_type": "stream",
     "text": [
      "1635\n"
     ]
    }
   ],
   "source": [
    "import os, pickle\n",
    "from collections import Counter\n",
    "from tqdm import tqdm\n",
    "root = os.path.join('data', 'output', 'round1')\n",
    "chkm_dest = os.path.join('data', 'output', 'checkmates')\n",
    "\n",
    "tournamentfiles = [f for f in os.listdir(root) if f.startswith('tmnt_') and f.endswith('.pkl')]\n",
    "supplementary_checkmates = os.listdir(chkm_dest)\n",
    "positions = dict()\n",
    "\n",
    "for file in tournamentfiles:\n",
    "    with open(os.path.join(root, file), 'rb') as pkl:\n",
    "        tourn = pickle.load(pkl)\n",
    "\n",
    "    for i, pair in tourn.items():\n",
    "        for order,game in pair.items():\n",
    "            for color in game:\n",
    "                points = game[color]['points']\n",
    "                for token, move in game[color]['moves']:\n",
    "                    token, board = game[color]['moves'][-1]\n",
    "                    if token in positions:\n",
    "                        positions[token]['visits'] += 1\n",
    "                        positions[token]['points'] += points\n",
    "                    else:\n",
    "                        positions[token] = {'board':board, 'visits':1, 'points':points}\n",
    "\n",
    "for file in supplementary_checkmates:\n",
    "    with open(os.path.join(chkm_dest, file), 'rb') as pkl:\n",
    "        token, board, points = pickle.load(pkl)\n",
    "    if token not in positions:\n",
    "        positions[token] = {'board':board, 'visits':1, 'points':points}\n",
    "\n",
    "print(len(positions))\n",
    "    "
   ]
  },
  {
   "cell_type": "code",
   "execution_count": 28,
   "id": "d6f51aa8",
   "metadata": {},
   "outputs": [
    {
     "data": {
      "text/plain": [
       "(array([ 179.,    0.,    0.,    0.,    0.,    0.,    0.,    0.,    0.,\n",
       "           0.,    0.,    0.,    0.,    0.,    0.,    0.,    0.,    0.,\n",
       "           0.,    0.,    0.,    0.,    0.,    0.,    0.,    0.,    0.,\n",
       "           0.,    0.,    0.,    0.,    0.,    0.,    0.,    0.,    0.,\n",
       "           0.,    0.,    0.,    0.,    0.,    0.,    0.,    0.,    0.,\n",
       "           0.,    0.,    0.,    0., 1456.]),\n",
       " array([0.  , 0.02, 0.04, 0.06, 0.08, 0.1 , 0.12, 0.14, 0.16, 0.18, 0.2 ,\n",
       "        0.22, 0.24, 0.26, 0.28, 0.3 , 0.32, 0.34, 0.36, 0.38, 0.4 , 0.42,\n",
       "        0.44, 0.46, 0.48, 0.5 , 0.52, 0.54, 0.56, 0.58, 0.6 , 0.62, 0.64,\n",
       "        0.66, 0.68, 0.7 , 0.72, 0.74, 0.76, 0.78, 0.8 , 0.82, 0.84, 0.86,\n",
       "        0.88, 0.9 , 0.92, 0.94, 0.96, 0.98, 1.  ]),\n",
       " <BarContainer object of 50 artists>)"
      ]
     },
     "execution_count": 28,
     "metadata": {},
     "output_type": "execute_result"
    },
    {
     "data": {
      "image/png": "[encoded data removed]",
      "text/plain": [
       "<Figure size 640x480 with 1 Axes>"
      ]
     },
     "metadata": {},
     "output_type": "display_data"
    }
   ],
   "source": [
    "import numpy as np\n",
    "import matplotlib.pyplot as plt\n",
    "plt.hist(np.array([abs(position['points']/position['visits']) for position in positions.values()]), bins=50)"
   ]
  },
  {
   "cell_type": "code",
   "execution_count": 26,
   "id": "e182e7bd",
   "metadata": {},
   "outputs": [],
   "source": [
    "num_moves = []\n",
    "for file in tournamentfiles:\n",
    "    with open(os.path.join(root, file), 'rb') as pkl:\n",
    "        tourn = pickle.load(pkl)\n",
    "\n",
    "    for i, pair in tourn.items():\n",
    "        for order,game in pair.items():\n",
    "            nmoves = max(len(game['white']['moves']), len(game['black']['moves']))\n",
    "            num_moves.append(nmoves)"
   ]
  },
  {
   "cell_type": "code",
   "execution_count": 27,
   "id": "855114ea",
   "metadata": {},
   "outputs": [
    {
     "data": {
      "text/plain": [
       "(array([15., 19., 18., 21., 13., 10.,  3.,  5.,  1., 89.]),\n",
       " array([  3. ,  22.7,  42.4,  62.1,  81.8, 101.5, 121.2, 140.9, 160.6,\n",
       "        180.3, 200. ]),\n",
       " <BarContainer object of 10 artists>)"
      ]
     },
     "execution_count": 27,
     "metadata": {},
     "output_type": "execute_result"
    },
    {
     "data": {
      "image/png": "[encoded data removed]",
      "text/plain": [
       "<Figure size 640x480 with 1 Axes>"
      ]
     },
     "metadata": {},
     "output_type": "display_data"
    }
   ],
   "source": [
    "plt.hist(num_moves)"
   ]
  },
  {
   "cell_type": "code",
   "execution_count": null,
   "id": "bdd315e9",
   "metadata": {},
   "outputs": [],
   "source": []
  }
 ],
 "metadata": {
  "kernelspec": {
   "display_name": "Python 3 (ipykernel)",
   "language": "python",
   "name": "python3"
  },
  "language_info": {
   "codemirror_mode": {
    "name": "ipython",
    "version": 3
   },
   "file_extension": ".py",
   "mimetype": "text/x-python",
   "name": "python",
   "nbconvert_exporter": "python",
   "pygments_lexer": "ipython3",
   "version": "3.8.12"
  }
 },
 "nbformat": 4,
 "nbformat_minor": 5
}
