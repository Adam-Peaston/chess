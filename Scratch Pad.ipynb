{
 "cells": [
  {
   "cell_type": "code",
   "execution_count": 92,
   "id": "b64c1d0d",
   "metadata": {},
   "outputs": [
    {
     "name": "stdout",
     "output_type": "stream",
     "text": [
      "7 games ended in checkmate out of 8 games played.\n"
     ]
    },
    {
     "data": {
      "text/plain": [
       "Counter({1.0: 7, 0.0: 1})"
      ]
     },
     "execution_count": 92,
     "metadata": {},
     "output_type": "execute_result"
    }
   ],
   "source": [
    "import os, pickle\n",
    "from collections import Counter\n",
    "from tqdm import tqdm\n",
    "\n",
    "root = os.path.join('data', 'output', 'round_12','self_play')\n",
    "tournamentfiles = [f for f in os.listdir(root) if f.startswith('tmnt_') and f.endswith('.pkl')]\n",
    "agent0_points = []\n",
    "agent1_points = []\n",
    "checkmates = []\n",
    "\n",
    "for file in tournamentfiles:\n",
    "    with open(os.path.join(root, file), 'rb') as pkl:\n",
    "        tourn = pickle.load(pkl)\n",
    "    \n",
    "    for i, pair in tourn.items():\n",
    "        agent0_points.append(pair['a0wa1b']['white']['points'])\n",
    "        agent1_points.append(pair['a0wa1b']['black']['points'])\n",
    "        agent0_points.append(pair['a1wa0b']['black']['points'])\n",
    "        agent1_points.append(pair['a1wa0b']['white']['points'])\n",
    "        for order,game in pair.items():\n",
    "            for color in game:\n",
    "                if abs(game[color]['points']) == 1:\n",
    "                    token, board = game[color]['moves'][-1]\n",
    "                    points = game[color]['points']\n",
    "                    checkmates.append((token, board, points))\n",
    "\n",
    "print(f'{len(checkmates)/2:.0f} games ended in checkmate out of {len(tournamentfiles)*2:.0f} games played.')\n",
    "Counter(agent0_points)"
   ]
  },
  {
   "cell_type": "code",
   "execution_count": 4,
   "id": "8d6b22db",
   "metadata": {},
   "outputs": [],
   "source": [
    "# from chess_model import ChessDataset\n",
    "# root_dir = os.path.join('data', 'output')\n",
    "# dataset = ChessDataset(root_dir=root_dir, look_back=10, device=None)\n",
    "# len(dataset)"
   ]
  },
  {
   "cell_type": "code",
   "execution_count": null,
   "id": "1b377183",
   "metadata": {},
   "outputs": [],
   "source": []
  },
  {
   "cell_type": "markdown",
   "id": "3ec527d5",
   "metadata": {},
   "source": [
    "#### How shall we test whether a newer model is better than an older model? \n",
    "Play them against each other until the estimated probability of a win by the newer model has high confidence (narrow distribution)."
   ]
  },
  {
   "cell_type": "code",
   "execution_count": 103,
   "id": "1c80dbd4",
   "metadata": {},
   "outputs": [
    {
     "data": {
      "text/plain": [
       "[<matplotlib.lines.Line2D at 0x19925976cd0>]"
      ]
     },
     "execution_count": 103,
     "metadata": {},
     "output_type": "execute_result"
    },
    {
     "data": {
      "image/png": "[encoded data removed]",
      "text/plain": [
       "<Figure size 1500x500 with 1 Axes>"
      ]
     },
     "metadata": {},
     "output_type": "display_data"
    }
   ],
   "source": [
    "from math import factorial as fact\n",
    "import matplotlib.pyplot as plt\n",
    "trials = np.random.choice([-1,0,1], size=100, p=[0.05, 0.05, 0.9])\n",
    "\n",
    "def likelihood(trials, n_points=100):\n",
    "    num_wins = sum([i==1 for i in trials])\n",
    "    num_loss = len(trials) - num_wins\n",
    "    coef = fact(len(trials)+1)/(fact(num_wins)*fact(num_loss))\n",
    "    R = np.linspace(0,1,n_points)\n",
    "    pdf = [coef*(r**num_wins)*(1-r)**(num_loss) for r in R]\n",
    "    return R, pdf\n",
    "\n",
    "R, pdf = likelihood(trials, n_points=5000)\n",
    "\n",
    "fig = plt.figure(figsize=(15,5))\n",
    "plt.plot(R, pdf)"
   ]
  },
  {
   "cell_type": "code",
   "execution_count": null,
   "id": "66aa2975",
   "metadata": {},
   "outputs": [],
   "source": []
  },
  {
   "cell_type": "code",
   "execution_count": null,
   "id": "562ca187",
   "metadata": {},
   "outputs": [],
   "source": []
  },
  {
   "cell_type": "code",
   "execution_count": null,
   "id": "5c081ecd",
   "metadata": {},
   "outputs": [],
   "source": []
  },
  {
   "cell_type": "code",
   "execution_count": null,
   "id": "b4cc7e78",
   "metadata": {},
   "outputs": [],
   "source": [
    "import os, pickle\n",
    "from collections import Counter\n",
    "from tqdm import tqdm\n",
    "\n",
    "source = os.path.join('data', 'output', 'old_round_0','self_play')\n",
    "dest = os.path.join('data','output','new_round_0','self_play')\n",
    "tournamentfiles = [f for f in os.listdir(source) if f.startswith('tmnt_') and f.endswith('.pkl')]\n",
    "\n",
    "for file in tqdm(tournamentfiles):\n",
    "\n",
    "    with open(os.path.join(source, file), 'rb') as pkl:\n",
    "        old_tourn = pickle.load(pkl)\n",
    "\n",
    "    new_tourn = {\n",
    "        pair: {\n",
    "            'a0wa1b': {\n",
    "                'white': {\n",
    "                    'points': old_tourn[pair][0]['white']['points'], \n",
    "                    'moves': old_tourn[pair][0]['white']['moves']\n",
    "                }, \n",
    "                'black': {\n",
    "                    'points': old_tourn[pair][0]['black']['points'], \n",
    "                    'moves': old_tourn[pair][0]['black']['moves']\n",
    "                }\n",
    "            },\n",
    "            'a1wa0b': {\n",
    "                'white': {\n",
    "                    'points': old_tourn[pair][1]['white']['points'], \n",
    "                    'moves': old_tourn[pair][1]['white']['moves']\n",
    "                }, \n",
    "                'black': {\n",
    "                    'points': old_tourn[pair][1]['black']['points'], \n",
    "                    'moves': old_tourn[pair][1]['black']['moves']\n",
    "                }\n",
    "            }\n",
    "        } for pair in old_tourn\n",
    "    }\n",
    "\n",
    "    with open(os.path.join(dest, file), 'wb') as pkl:\n",
    "        pickle.dump(new_tourn, pkl)"
   ]
  },
  {
   "cell_type": "code",
   "execution_count": null,
   "id": "777910ee",
   "metadata": {},
   "outputs": [],
   "source": []
  },
  {
   "cell_type": "code",
   "execution_count": null,
   "id": "8683018d",
   "metadata": {},
   "outputs": [],
   "source": []
  },
  {
   "cell_type": "code",
   "execution_count": null,
   "id": "55ebad78",
   "metadata": {},
   "outputs": [],
   "source": []
  },
  {
   "cell_type": "code",
   "execution_count": null,
   "id": "068a70bc",
   "metadata": {},
   "outputs": [],
   "source": []
  },
  {
   "cell_type": "code",
   "execution_count": 10,
   "id": "643d3bf2",
   "metadata": {},
   "outputs": [
    {
     "name": "stdout",
     "output_type": "stream",
     "text": [
      "2191\n"
     ]
    }
   ],
   "source": [
    "import os, pickle\n",
    "from collections import Counter\n",
    "from tqdm import tqdm\n",
    "root = os.path.join('data', 'output', 'round_10','self_play')\n",
    "chkm_dest = os.path.join('data', 'output', 'checkmates','baseline')\n",
    "\n",
    "tournamentfiles = [f for f in os.listdir(root) if f.startswith('tmnt_') and f.endswith('.pkl')]\n",
    "supplementary_checkmates = os.listdir(chkm_dest)\n",
    "positions = dict()\n",
    "\n",
    "for file in tournamentfiles:\n",
    "    with open(os.path.join(root, file), 'rb') as pkl:\n",
    "        tourn = pickle.load(pkl)\n",
    "\n",
    "    for i, pair in tourn.items():\n",
    "        for order,game in pair.items():\n",
    "            for color in game:\n",
    "                points = game[color]['points']\n",
    "                for token, move in game[color]['moves']:\n",
    "                    token, board = game[color]['moves'][-1]\n",
    "                    if token in positions:\n",
    "                        positions[token]['visits'] += 1\n",
    "                        positions[token]['points'] += points\n",
    "                    else:\n",
    "                        positions[token] = {'board':board, 'visits':1, 'points':points}\n",
    "\n",
    "for file in supplementary_checkmates:\n",
    "    with open(os.path.join(chkm_dest, file), 'rb') as pkl:\n",
    "        token, board, points = pickle.load(pkl)\n",
    "    if token not in positions:\n",
    "        positions[token] = {'board':board, 'visits':1, 'points':points}\n",
    "\n",
    "print(len(positions))\n",
    "    "
   ]
  },
  {
   "cell_type": "code",
   "execution_count": 11,
   "id": "d6f51aa8",
   "metadata": {},
   "outputs": [
    {
     "data": {
      "text/plain": [
       "(array([ 405.,    0.,    0.,    0.,    0.,    0.,    0.,    0.,    0.,\n",
       "           0.,    0.,    0.,    0.,    0.,    0.,    0.,    0.,    0.,\n",
       "           0.,    0.,    0.,    0.,    0.,    0.,    0.,    0.,    0.,\n",
       "           0.,    0.,    0.,    0.,    0.,    0.,    0.,    0.,    0.,\n",
       "           0.,    0.,    0.,    0.,    0.,    0.,    0.,    0.,    0.,\n",
       "           0.,    0.,    0.,    0., 1786.]),\n",
       " array([0.  , 0.02, 0.04, 0.06, 0.08, 0.1 , 0.12, 0.14, 0.16, 0.18, 0.2 ,\n",
       "        0.22, 0.24, 0.26, 0.28, 0.3 , 0.32, 0.34, 0.36, 0.38, 0.4 , 0.42,\n",
       "        0.44, 0.46, 0.48, 0.5 , 0.52, 0.54, 0.56, 0.58, 0.6 , 0.62, 0.64,\n",
       "        0.66, 0.68, 0.7 , 0.72, 0.74, 0.76, 0.78, 0.8 , 0.82, 0.84, 0.86,\n",
       "        0.88, 0.9 , 0.92, 0.94, 0.96, 0.98, 1.  ]),\n",
       " <BarContainer object of 50 artists>)"
      ]
     },
     "execution_count": 11,
     "metadata": {},
     "output_type": "execute_result"
    },
    {
     "data": {
      "image/png": "[encoded data removed]",
      "text/plain": [
       "<Figure size 640x480 with 1 Axes>"
      ]
     },
     "metadata": {},
     "output_type": "display_data"
    }
   ],
   "source": [
    "import numpy as np\n",
    "import matplotlib.pyplot as plt\n",
    "plt.hist(np.array([abs(position['points']/position['visits']) for position in positions.values()]), bins=50)"
   ]
  },
  {
   "cell_type": "code",
   "execution_count": 12,
   "id": "e182e7bd",
   "metadata": {},
   "outputs": [
    {
     "data": {
      "text/plain": [
       "Text(0.5, 0, 'Number of moves made')"
      ]
     },
     "execution_count": 12,
     "metadata": {},
     "output_type": "execute_result"
    },
    {
     "data": {
      "image/png": "[encoded data removed]",
      "text/plain": [
       "<Figure size 640x480 with 1 Axes>"
      ]
     },
     "metadata": {},
     "output_type": "display_data"
    }
   ],
   "source": [
    "num_moves = []\n",
    "for file in tournamentfiles:\n",
    "    with open(os.path.join(root, file), 'rb') as pkl:\n",
    "        tourn = pickle.load(pkl)\n",
    "\n",
    "    for i, pair in tourn.items():\n",
    "        for order,game in pair.items():\n",
    "            nmoves = max(len(game['white']['moves']), len(game['black']['moves']))\n",
    "            num_moves.append(nmoves)\n",
    "\n",
    "plt.hist(num_moves)\n",
    "plt.ylabel('Number of games played')\n",
    "plt.xlabel('Number of moves made')\n"
   ]
  },
  {
   "cell_type": "code",
   "execution_count": null,
   "id": "bae9f755",
   "metadata": {},
   "outputs": [],
   "source": []
  }
 ],
 "metadata": {
  "kernelspec": {
   "display_name": "Python 3 (ipykernel)",
   "language": "python",
   "name": "python3"
  },
  "language_info": {
   "codemirror_mode": {
    "name": "ipython",
    "version": 3
   },
   "file_extension": ".py",
   "mimetype": "text/x-python",
   "name": "python",
   "nbconvert_exporter": "python",
   "pygments_lexer": "ipython3",
   "version": "3.8.12"
  }
 },
 "nbformat": 4,
 "nbformat_minor": 5
}
